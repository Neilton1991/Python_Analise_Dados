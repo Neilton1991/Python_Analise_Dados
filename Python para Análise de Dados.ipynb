{
 "cells": [
  {
   "cell_type": "markdown",
   "id": "aed40c96",
   "metadata": {},
   "source": [
    "### <font color=red> PRINT"
   ]
  },
  {
   "cell_type": "code",
   "execution_count": null,
   "id": "2c95756d",
   "metadata": {},
   "outputs": [],
   "source": [
    "#Posso usar aspas simples ou duplas 'blá' ou \"blá\" ou '''bla''' para fazer um comentário em python"
   ]
  },
  {
   "cell_type": "code",
   "execution_count": null,
   "id": "df7eea41",
   "metadata": {},
   "outputs": [],
   "source": [
    "print('Bem vindo ao curso de python')"
   ]
  },
  {
   "cell_type": "code",
   "execution_count": 4,
   "id": "5b61a280",
   "metadata": {},
   "outputs": [
    {
     "name": "stdout",
     "output_type": "stream",
     "text": [
      "Bem vindo ao curso de Python\n"
     ]
    }
   ],
   "source": [
    "print(\"Bem vindo ao curso de Python\")"
   ]
  },
  {
   "cell_type": "code",
   "execution_count": 9,
   "id": "35fe2d9f",
   "metadata": {},
   "outputs": [
    {
     "name": "stdout",
     "output_type": "stream",
     "text": [
      "O \n",
      " faz \n",
      " pular uma \n",
      " linha\n"
     ]
    }
   ],
   "source": [
    "print('O \\n faz \\n pular uma \\n linha')"
   ]
  },
  {
   "cell_type": "markdown",
   "id": "6f2fdeaa",
   "metadata": {},
   "source": [
    "### <font color=red> OPERADORES"
   ]
  },
  {
   "cell_type": "code",
   "execution_count": 15,
   "id": "ec7f6ba4",
   "metadata": {},
   "outputs": [
    {
     "data": {
      "text/plain": [
       "15"
      ]
     },
     "execution_count": 15,
     "metadata": {},
     "output_type": "execute_result"
    }
   ],
   "source": [
    "# SOMA\n",
    "10 + 5 "
   ]
  },
  {
   "cell_type": "code",
   "execution_count": 16,
   "id": "9450b1e2",
   "metadata": {},
   "outputs": [
    {
     "data": {
      "text/plain": [
       "5"
      ]
     },
     "execution_count": 16,
     "metadata": {},
     "output_type": "execute_result"
    }
   ],
   "source": [
    "# SUBTRAÇÃO\n",
    "10 - 5 "
   ]
  },
  {
   "cell_type": "code",
   "execution_count": 17,
   "id": "a8fd7efb",
   "metadata": {},
   "outputs": [
    {
     "data": {
      "text/plain": [
       "2.0"
      ]
     },
     "execution_count": 17,
     "metadata": {},
     "output_type": "execute_result"
    }
   ],
   "source": [
    "# DIVISÃO\n",
    "10 / 5 "
   ]
  },
  {
   "cell_type": "code",
   "execution_count": 18,
   "id": "bc0379a1",
   "metadata": {},
   "outputs": [
    {
     "data": {
      "text/plain": [
       "50"
      ]
     },
     "execution_count": 18,
     "metadata": {},
     "output_type": "execute_result"
    }
   ],
   "source": [
    "# MULTIPLICAÇÃO\n",
    "10 * 5 "
   ]
  },
  {
   "cell_type": "code",
   "execution_count": 23,
   "id": "3bed7fe1",
   "metadata": {},
   "outputs": [
    {
     "data": {
      "text/plain": [
       "8"
      ]
     },
     "execution_count": 23,
     "metadata": {},
     "output_type": "execute_result"
    }
   ],
   "source": [
    "# EXPONENCIAÇÃO\n",
    "2**3 "
   ]
  },
  {
   "cell_type": "code",
   "execution_count": 24,
   "id": "ce6c5c24",
   "metadata": {},
   "outputs": [
    {
     "data": {
      "text/plain": [
       "3"
      ]
     },
     "execution_count": 24,
     "metadata": {},
     "output_type": "execute_result"
    }
   ],
   "source": [
    "# RESTO DA DIVISÃO\n",
    "3 % 4"
   ]
  },
  {
   "cell_type": "code",
   "execution_count": 28,
   "id": "af97ca3c",
   "metadata": {},
   "outputs": [
    {
     "data": {
      "text/plain": [
       "3"
      ]
     },
     "execution_count": 28,
     "metadata": {},
     "output_type": "execute_result"
    }
   ],
   "source": [
    "# DIVISÃO DE CHÃO\n",
    "15 // 4"
   ]
  },
  {
   "cell_type": "code",
   "execution_count": 30,
   "id": "930eff6a",
   "metadata": {},
   "outputs": [
    {
     "data": {
      "text/plain": [
       "35"
      ]
     },
     "execution_count": 30,
     "metadata": {},
     "output_type": "execute_result"
    }
   ],
   "source": [
    "# PRIORIZAÇÃO DENTRO DA OPERAÇÃO\n",
    "(1+4)*7\n"
   ]
  },
  {
   "cell_type": "markdown",
   "id": "d7696716",
   "metadata": {},
   "source": [
    "### <font color=red> VARIÁVEIS"
   ]
  },
  {
   "cell_type": "code",
   "execution_count": 1,
   "id": "29631a53",
   "metadata": {},
   "outputs": [],
   "source": [
    "# VARIÁVEL DE TEXTO str\n",
    "nome = 'Neilton'"
   ]
  },
  {
   "cell_type": "code",
   "execution_count": 2,
   "id": "9945bfaf",
   "metadata": {},
   "outputs": [
    {
     "data": {
      "text/plain": [
       "'Neilton'"
      ]
     },
     "execution_count": 2,
     "metadata": {},
     "output_type": "execute_result"
    }
   ],
   "source": [
    "nome"
   ]
  },
  {
   "cell_type": "code",
   "execution_count": 12,
   "id": "6bd58d91",
   "metadata": {},
   "outputs": [],
   "source": [
    "# VARIÁVEL DE TEXTO USANDO STR\n",
    "nome = str('Neilton')\n",
    "sobrenome = str('Souza')"
   ]
  },
  {
   "cell_type": "code",
   "execution_count": 14,
   "id": "8f2027a0",
   "metadata": {},
   "outputs": [
    {
     "name": "stdout",
     "output_type": "stream",
     "text": [
      "Neilton Souza\n"
     ]
    }
   ],
   "source": [
    "print(nome, sobrenome)"
   ]
  },
  {
   "cell_type": "code",
   "execution_count": 21,
   "id": "f077d4f5",
   "metadata": {},
   "outputs": [],
   "source": [
    "# VARIÁVEOS NUMÉRICAS\n",
    "var_inteiro_01=100\n",
    "var_inteiro_02= int(30)"
   ]
  },
  {
   "cell_type": "code",
   "execution_count": 23,
   "id": "af554957",
   "metadata": {},
   "outputs": [
    {
     "name": "stdout",
     "output_type": "stream",
     "text": [
      "100 30\n"
     ]
    }
   ],
   "source": [
    "print(var_inteiro_01, var_inteiro_02)"
   ]
  },
  {
   "cell_type": "code",
   "execution_count": 24,
   "id": "c5e5147d",
   "metadata": {},
   "outputs": [],
   "source": [
    "# VARIÁVEIS FLUTUANTES\n",
    "var_flutuante_01 = float(10.65)\n",
    "var_flutuante_02 = 10.35\n"
   ]
  },
  {
   "cell_type": "code",
   "execution_count": 25,
   "id": "a00405a6",
   "metadata": {},
   "outputs": [
    {
     "name": "stdout",
     "output_type": "stream",
     "text": [
      "10.65 10.35\n"
     ]
    }
   ],
   "source": [
    "print(var_flutuante_01, var_flutuante_02)"
   ]
  },
  {
   "cell_type": "code",
   "execution_count": null,
   "id": "049b1037",
   "metadata": {},
   "outputs": [],
   "source": [
    "a = 10\n",
    "b = 9"
   ]
  },
  {
   "cell_type": "code",
   "execution_count": 40,
   "id": "a07445de",
   "metadata": {},
   "outputs": [
    {
     "data": {
      "text/plain": [
       "False"
      ]
     },
     "execution_count": 40,
     "metadata": {},
     "output_type": "execute_result"
    }
   ],
   "source": [
    "a==b"
   ]
  },
  {
   "cell_type": "code",
   "execution_count": 42,
   "id": "b4fa51c8",
   "metadata": {},
   "outputs": [],
   "source": [
    "a1 = 10\n",
    "b1 = 10"
   ]
  },
  {
   "cell_type": "code",
   "execution_count": 43,
   "id": "ee0818a3",
   "metadata": {},
   "outputs": [
    {
     "data": {
      "text/plain": [
       "True"
      ]
     },
     "execution_count": 43,
     "metadata": {},
     "output_type": "execute_result"
    }
   ],
   "source": [
    "a1==b1"
   ]
  },
  {
   "cell_type": "markdown",
   "id": "02d7c515",
   "metadata": {},
   "source": [
    "### <font color=red> TIPOS DE DADOS"
   ]
  },
  {
   "cell_type": "code",
   "execution_count": null,
   "id": "ac187939",
   "metadata": {},
   "outputs": [],
   "source": [
    "# LISTAS [colchetes]\n",
    "# TUPLAS (parênteses)\n",
    "# DICIONÁRIOS {chaves}"
   ]
  },
  {
   "cell_type": "code",
   "execution_count": 76,
   "id": "b17e32b5",
   "metadata": {},
   "outputs": [],
   "source": [
    "# LISTAS\n",
    "lista_01 = [1,2,3,4,5,6,7,8,9,10]\n",
    "lista_02 = ['Neilton','Santos','de','Souza', 30,12,1991]\n",
    "lista_03 = [1,2,'Texto', [lista_01,lista_02]]"
   ]
  },
  {
   "cell_type": "code",
   "execution_count": 77,
   "id": "3acc7c7d",
   "metadata": {},
   "outputs": [
    {
     "data": {
      "text/plain": [
       "[1, 2, 3, 4, 5, 6, 7, 8, 9, 10]"
      ]
     },
     "execution_count": 77,
     "metadata": {},
     "output_type": "execute_result"
    }
   ],
   "source": [
    "lista_01"
   ]
  },
  {
   "cell_type": "code",
   "execution_count": 78,
   "id": "18d4b3b1",
   "metadata": {},
   "outputs": [
    {
     "data": {
      "text/plain": [
       "['Neilton', 'Santos', 'de', 'Souza', 30, 12, 1991]"
      ]
     },
     "execution_count": 78,
     "metadata": {},
     "output_type": "execute_result"
    }
   ],
   "source": [
    "lista_02"
   ]
  },
  {
   "cell_type": "code",
   "execution_count": 79,
   "id": "01e19b7a",
   "metadata": {},
   "outputs": [
    {
     "data": {
      "text/plain": [
       "[1,\n",
       " 2,\n",
       " 'Texto',\n",
       " [[1, 2, 3, 4, 5, 6, 7, 8, 9, 10],\n",
       "  ['Neilton', 'Santos', 'de', 'Souza', 30, 12, 1991]]]"
      ]
     },
     "execution_count": 79,
     "metadata": {},
     "output_type": "execute_result"
    }
   ],
   "source": [
    "lista_03"
   ]
  },
  {
   "cell_type": "code",
   "execution_count": 64,
   "id": "c168ddeb",
   "metadata": {},
   "outputs": [],
   "source": [
    "# TUPLAS - As tublas são imutáveis, se criar um veznão pode mudar ela\n",
    "tupla_01 = (1,2,3,4,5,6,7,8,9,10)\n",
    "tupla_02 = ('texto', 2, 2.90)"
   ]
  },
  {
   "cell_type": "code",
   "execution_count": 65,
   "id": "b80a40a8",
   "metadata": {},
   "outputs": [
    {
     "data": {
      "text/plain": [
       "(1, 2, 3, 4, 5, 6, 7, 8, 9, 10)"
      ]
     },
     "execution_count": 65,
     "metadata": {},
     "output_type": "execute_result"
    }
   ],
   "source": [
    "tupla_01"
   ]
  },
  {
   "cell_type": "code",
   "execution_count": 80,
   "id": "df1e86c3",
   "metadata": {},
   "outputs": [
    {
     "data": {
      "text/plain": [
       "('texto', 2, 2.9)"
      ]
     },
     "execution_count": 80,
     "metadata": {},
     "output_type": "execute_result"
    }
   ],
   "source": [
    "tupla_02"
   ]
  },
  {
   "cell_type": "code",
   "execution_count": 84,
   "id": "7ca3760e",
   "metadata": {},
   "outputs": [],
   "source": [
    "# DICIONÁRIOS - são organizados por chave de valor\n",
    "dicionario_01 = {\n",
    "    'Index': 'Valor',\n",
    "    'Id':1,\n",
    "    'Id':2,\n",
    "    'Nome': 'Neilton',\n",
    "    'Lista':lista_03,\n",
    "    'Tupla':tupla_01\n",
    "    \n",
    "}"
   ]
  },
  {
   "cell_type": "code",
   "execution_count": 85,
   "id": "246c4c8a",
   "metadata": {},
   "outputs": [
    {
     "data": {
      "text/plain": [
       "{'Index': 'Valor',\n",
       " 'Id': 2,\n",
       " 'Nome': 'Neilton',\n",
       " 'Lista': [1,\n",
       "  2,\n",
       "  'Texto',\n",
       "  [[1, 2, 3, 4, 5, 6, 7, 8, 9, 10],\n",
       "   ['Neilton', 'Santos', 'de', 'Souza', 30, 12, 1991]]],\n",
       " 'Tupla': (1, 2, 3, 4, 5, 6, 7, 8, 9, 10)}"
      ]
     },
     "execution_count": 85,
     "metadata": {},
     "output_type": "execute_result"
    }
   ],
   "source": [
    "dicionario_01"
   ]
  },
  {
   "cell_type": "code",
   "execution_count": null,
   "id": "f9cc9afb",
   "metadata": {},
   "outputs": [],
   "source": []
  },
  {
   "cell_type": "code",
   "execution_count": null,
   "id": "a31603a5",
   "metadata": {},
   "outputs": [],
   "source": []
  },
  {
   "cell_type": "code",
   "execution_count": null,
   "id": "9962ced9",
   "metadata": {},
   "outputs": [],
   "source": []
  },
  {
   "cell_type": "code",
   "execution_count": null,
   "id": "bd7d4a93",
   "metadata": {},
   "outputs": [],
   "source": []
  },
  {
   "cell_type": "code",
   "execution_count": null,
   "id": "453b9eaf",
   "metadata": {},
   "outputs": [],
   "source": []
  },
  {
   "cell_type": "code",
   "execution_count": null,
   "id": "116437d8",
   "metadata": {},
   "outputs": [],
   "source": []
  },
  {
   "cell_type": "code",
   "execution_count": null,
   "id": "3d22379e",
   "metadata": {},
   "outputs": [],
   "source": []
  },
  {
   "cell_type": "code",
   "execution_count": null,
   "id": "3057bb35",
   "metadata": {},
   "outputs": [],
   "source": []
  }
 ],
 "metadata": {
  "kernelspec": {
   "display_name": "Python 3 (ipykernel)",
   "language": "python",
   "name": "python3"
  },
  "language_info": {
   "codemirror_mode": {
    "name": "ipython",
    "version": 3
   },
   "file_extension": ".py",
   "mimetype": "text/x-python",
   "name": "python",
   "nbconvert_exporter": "python",
   "pygments_lexer": "ipython3",
   "version": "3.6.8"
  }
 },
 "nbformat": 4,
 "nbformat_minor": 5
}

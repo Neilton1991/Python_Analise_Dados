{
 "cells": [
  {
   "cell_type": "markdown",
   "id": "aed40c96",
   "metadata": {},
   "source": [
    "### <font color=red> PRINT"
   ]
  },
  {
   "cell_type": "code",
   "execution_count": null,
   "id": "2c95756d",
   "metadata": {},
   "outputs": [],
   "source": [
    "#Posso usar aspas simples ou duplas 'blá' ou \"blá\" ou '''bla''' para fazer um comentário em python"
   ]
  },
  {
   "cell_type": "code",
   "execution_count": null,
   "id": "df7eea41",
   "metadata": {},
   "outputs": [],
   "source": [
    "print('Bem vindo ao curso de python')"
   ]
  },
  {
   "cell_type": "code",
   "execution_count": 4,
   "id": "5b61a280",
   "metadata": {},
   "outputs": [
    {
     "name": "stdout",
     "output_type": "stream",
     "text": [
      "Bem vindo ao curso de Python\n"
     ]
    }
   ],
   "source": [
    "print(\"Bem vindo ao curso de Python\")"
   ]
  },
  {
   "cell_type": "code",
   "execution_count": 9,
   "id": "35fe2d9f",
   "metadata": {},
   "outputs": [
    {
     "name": "stdout",
     "output_type": "stream",
     "text": [
      "O \n",
      " faz \n",
      " pular uma \n",
      " linha\n"
     ]
    }
   ],
   "source": [
    "print('O \\n faz \\n pular uma \\n linha')"
   ]
  },
  {
   "cell_type": "markdown",
   "id": "6f2fdeaa",
   "metadata": {},
   "source": [
    "### <font color=red> OPERADORES"
   ]
  },
  {
   "cell_type": "code",
   "execution_count": 15,
   "id": "ec7f6ba4",
   "metadata": {},
   "outputs": [
    {
     "data": {
      "text/plain": [
       "15"
      ]
     },
     "execution_count": 15,
     "metadata": {},
     "output_type": "execute_result"
    }
   ],
   "source": [
    "# SOMA\n",
    "10 + 5 "
   ]
  },
  {
   "cell_type": "code",
   "execution_count": 16,
   "id": "9450b1e2",
   "metadata": {},
   "outputs": [
    {
     "data": {
      "text/plain": [
       "5"
      ]
     },
     "execution_count": 16,
     "metadata": {},
     "output_type": "execute_result"
    }
   ],
   "source": [
    "# SUBTRAÇÃO\n",
    "10 - 5 "
   ]
  },
  {
   "cell_type": "code",
   "execution_count": 17,
   "id": "a8fd7efb",
   "metadata": {},
   "outputs": [
    {
     "data": {
      "text/plain": [
       "2.0"
      ]
     },
     "execution_count": 17,
     "metadata": {},
     "output_type": "execute_result"
    }
   ],
   "source": [
    "# DIVISÃO\n",
    "10 / 5 "
   ]
  },
  {
   "cell_type": "code",
   "execution_count": 18,
   "id": "bc0379a1",
   "metadata": {},
   "outputs": [
    {
     "data": {
      "text/plain": [
       "50"
      ]
     },
     "execution_count": 18,
     "metadata": {},
     "output_type": "execute_result"
    }
   ],
   "source": [
    "# MULTIPLICAÇÃO\n",
    "10 * 5 "
   ]
  },
  {
   "cell_type": "code",
   "execution_count": 23,
   "id": "3bed7fe1",
   "metadata": {},
   "outputs": [
    {
     "data": {
      "text/plain": [
       "8"
      ]
     },
     "execution_count": 23,
     "metadata": {},
     "output_type": "execute_result"
    }
   ],
   "source": [
    "# EXPONENCIAÇÃO\n",
    "2**3 "
   ]
  },
  {
   "cell_type": "code",
   "execution_count": 24,
   "id": "ce6c5c24",
   "metadata": {},
   "outputs": [
    {
     "data": {
      "text/plain": [
       "3"
      ]
     },
     "execution_count": 24,
     "metadata": {},
     "output_type": "execute_result"
    }
   ],
   "source": [
    "# RESTO DA DIVISÃO\n",
    "3 % 4"
   ]
  },
  {
   "cell_type": "code",
   "execution_count": 28,
   "id": "af97ca3c",
   "metadata": {},
   "outputs": [
    {
     "data": {
      "text/plain": [
       "3"
      ]
     },
     "execution_count": 28,
     "metadata": {},
     "output_type": "execute_result"
    }
   ],
   "source": [
    "# DIVISÃO DE CHÃO\n",
    "15 // 4"
   ]
  },
  {
   "cell_type": "code",
   "execution_count": 30,
   "id": "930eff6a",
   "metadata": {},
   "outputs": [
    {
     "data": {
      "text/plain": [
       "35"
      ]
     },
     "execution_count": 30,
     "metadata": {},
     "output_type": "execute_result"
    }
   ],
   "source": [
    "# PRIORIZAÇÃO DENTRO DA OPERAÇÃO\n",
    "(1+4)*7\n"
   ]
  },
  {
   "cell_type": "markdown",
   "id": "d7696716",
   "metadata": {},
   "source": [
    "### <font color=red> VARIÁVEIS"
   ]
  },
  {
   "cell_type": "code",
   "execution_count": 1,
   "id": "29631a53",
   "metadata": {},
   "outputs": [],
   "source": [
    "# VARIÁVEL DE TEXTO str\n",
    "nome = 'Neilton'"
   ]
  },
  {
   "cell_type": "code",
   "execution_count": 2,
   "id": "9945bfaf",
   "metadata": {},
   "outputs": [
    {
     "data": {
      "text/plain": [
       "'Neilton'"
      ]
     },
     "execution_count": 2,
     "metadata": {},
     "output_type": "execute_result"
    }
   ],
   "source": [
    "nome"
   ]
  },
  {
   "cell_type": "code",
   "execution_count": 12,
   "id": "6bd58d91",
   "metadata": {},
   "outputs": [],
   "source": [
    "# VARIÁVEL DE TEXTO USANDO STR\n",
    "nome = str('Neilton')\n",
    "sobrenome = str('Souza')"
   ]
  },
  {
   "cell_type": "code",
   "execution_count": 14,
   "id": "8f2027a0",
   "metadata": {},
   "outputs": [
    {
     "name": "stdout",
     "output_type": "stream",
     "text": [
      "Neilton Souza\n"
     ]
    }
   ],
   "source": [
    "print(nome, sobrenome)"
   ]
  },
  {
   "cell_type": "code",
   "execution_count": 21,
   "id": "f077d4f5",
   "metadata": {},
   "outputs": [],
   "source": [
    "# VARIÁVEOS NUMÉRICAS\n",
    "var_inteiro_01=100\n",
    "var_inteiro_02= int(30)"
   ]
  },
  {
   "cell_type": "code",
   "execution_count": 23,
   "id": "af554957",
   "metadata": {},
   "outputs": [
    {
     "name": "stdout",
     "output_type": "stream",
     "text": [
      "100 30\n"
     ]
    }
   ],
   "source": [
    "print(var_inteiro_01, var_inteiro_02)"
   ]
  },
  {
   "cell_type": "code",
   "execution_count": 24,
   "id": "c5e5147d",
   "metadata": {},
   "outputs": [],
   "source": [
    "# VARIÁVEIS FLUTUANTES\n",
    "var_flutuante_01 = float(10.65)\n",
    "var_flutuante_02 = 10.35\n"
   ]
  },
  {
   "cell_type": "code",
   "execution_count": 25,
   "id": "a00405a6",
   "metadata": {},
   "outputs": [
    {
     "name": "stdout",
     "output_type": "stream",
     "text": [
      "10.65 10.35\n"
     ]
    }
   ],
   "source": [
    "print(var_flutuante_01, var_flutuante_02)"
   ]
  },
  {
   "cell_type": "code",
   "execution_count": null,
   "id": "049b1037",
   "metadata": {},
   "outputs": [],
   "source": [
    "a = 10\n",
    "b = 9"
   ]
  },
  {
   "cell_type": "code",
   "execution_count": 40,
   "id": "a07445de",
   "metadata": {},
   "outputs": [
    {
     "data": {
      "text/plain": [
       "False"
      ]
     },
     "execution_count": 40,
     "metadata": {},
     "output_type": "execute_result"
    }
   ],
   "source": [
    "a==b"
   ]
  },
  {
   "cell_type": "code",
   "execution_count": 42,
   "id": "b4fa51c8",
   "metadata": {},
   "outputs": [],
   "source": [
    "a1 = 10\n",
    "b1 = 10"
   ]
  },
  {
   "cell_type": "code",
   "execution_count": 43,
   "id": "ee0818a3",
   "metadata": {},
   "outputs": [
    {
     "data": {
      "text/plain": [
       "True"
      ]
     },
     "execution_count": 43,
     "metadata": {},
     "output_type": "execute_result"
    }
   ],
   "source": [
    "a1==b1"
   ]
  },
  {
   "cell_type": "markdown",
   "id": "65576303",
   "metadata": {},
   "source": [
    "### <font color=red> TIPOS DE DADOS"
   ]
  },
  {
   "cell_type": "code",
   "execution_count": null,
   "id": "ac187939",
   "metadata": {},
   "outputs": [],
   "source": [
    "# LISTAS [colchetes]\n",
    "# TUPLAS (parênteses)\n",
    "# DICIONÁRIOS {chaves}"
   ]
  },
  {
   "cell_type": "code",
   "execution_count": 76,
   "id": "b17e32b5",
   "metadata": {},
   "outputs": [],
   "source": [
    "# LISTAS\n",
    "lista_01 = [1,2,3,4,5,6,7,8,9,10]\n",
    "lista_02 = ['Neilton','Santos','de','Souza', 30,12,1991]\n",
    "lista_03 = [1,2,'Texto', [lista_01,lista_02]]"
   ]
  },
  {
   "cell_type": "code",
   "execution_count": 77,
   "id": "3acc7c7d",
   "metadata": {},
   "outputs": [
    {
     "data": {
      "text/plain": [
       "[1, 2, 3, 4, 5, 6, 7, 8, 9, 10]"
      ]
     },
     "execution_count": 77,
     "metadata": {},
     "output_type": "execute_result"
    }
   ],
   "source": [
    "lista_01"
   ]
  },
  {
   "cell_type": "code",
   "execution_count": 78,
   "id": "18d4b3b1",
   "metadata": {},
   "outputs": [
    {
     "data": {
      "text/plain": [
       "['Neilton', 'Santos', 'de', 'Souza', 30, 12, 1991]"
      ]
     },
     "execution_count": 78,
     "metadata": {},
     "output_type": "execute_result"
    }
   ],
   "source": [
    "lista_02"
   ]
  },
  {
   "cell_type": "code",
   "execution_count": 79,
   "id": "01e19b7a",
   "metadata": {},
   "outputs": [
    {
     "data": {
      "text/plain": [
       "[1,\n",
       " 2,\n",
       " 'Texto',\n",
       " [[1, 2, 3, 4, 5, 6, 7, 8, 9, 10],\n",
       "  ['Neilton', 'Santos', 'de', 'Souza', 30, 12, 1991]]]"
      ]
     },
     "execution_count": 79,
     "metadata": {},
     "output_type": "execute_result"
    }
   ],
   "source": [
    "lista_03"
   ]
  },
  {
   "cell_type": "code",
   "execution_count": 64,
   "id": "c168ddeb",
   "metadata": {},
   "outputs": [],
   "source": [
    "# TUPLAS - As tublas são imutáveis, se criar um veznão pode mudar ela\n",
    "tupla_01 = (1,2,3,4,5,6,7,8,9,10)\n",
    "tupla_02 = ('texto', 2, 2.90)"
   ]
  },
  {
   "cell_type": "code",
   "execution_count": 65,
   "id": "b80a40a8",
   "metadata": {},
   "outputs": [
    {
     "data": {
      "text/plain": [
       "(1, 2, 3, 4, 5, 6, 7, 8, 9, 10)"
      ]
     },
     "execution_count": 65,
     "metadata": {},
     "output_type": "execute_result"
    }
   ],
   "source": [
    "tupla_01"
   ]
  },
  {
   "cell_type": "code",
   "execution_count": 80,
   "id": "df1e86c3",
   "metadata": {},
   "outputs": [
    {
     "data": {
      "text/plain": [
       "('texto', 2, 2.9)"
      ]
     },
     "execution_count": 80,
     "metadata": {},
     "output_type": "execute_result"
    }
   ],
   "source": [
    "tupla_02"
   ]
  },
  {
   "cell_type": "code",
   "execution_count": 84,
   "id": "7ca3760e",
   "metadata": {},
   "outputs": [],
   "source": [
    "# DICIONÁRIOS - são organizados por chave de valor\n",
    "dicionario_01 = {\n",
    "    'Index': 'Valor',\n",
    "    'Id':1,\n",
    "    'Id':2,\n",
    "    'Nome': 'Neilton',\n",
    "    'Lista':lista_03,\n",
    "    'Tupla':tupla_01\n",
    "    \n",
    "}"
   ]
  },
  {
   "cell_type": "code",
   "execution_count": 85,
   "id": "246c4c8a",
   "metadata": {},
   "outputs": [
    {
     "data": {
      "text/plain": [
       "{'Index': 'Valor',\n",
       " 'Id': 2,\n",
       " 'Nome': 'Neilton',\n",
       " 'Lista': [1,\n",
       "  2,\n",
       "  'Texto',\n",
       "  [[1, 2, 3, 4, 5, 6, 7, 8, 9, 10],\n",
       "   ['Neilton', 'Santos', 'de', 'Souza', 30, 12, 1991]]],\n",
       " 'Tupla': (1, 2, 3, 4, 5, 6, 7, 8, 9, 10)}"
      ]
     },
     "execution_count": 85,
     "metadata": {},
     "output_type": "execute_result"
    }
   ],
   "source": [
    "dicionario_01"
   ]
  },
  {
   "cell_type": "markdown",
   "id": "a418183b",
   "metadata": {},
   "source": [
    "### <font color=red> NOMEANDO VARIÁVEIS"
   ]
  },
  {
   "cell_type": "code",
   "execution_count": 12,
   "id": "a31603a5",
   "metadata": {},
   "outputs": [],
   "source": [
    "# NOMEANDO e ATRIBUINDO VALORES PARA VÁRIAS VARIÁVEIS AO MESMO TEMPO\n",
    "laranja, manga, banana = 1,2,3\n"
   ]
  },
  {
   "cell_type": "code",
   "execution_count": 13,
   "id": "9962ced9",
   "metadata": {},
   "outputs": [
    {
     "name": "stdout",
     "output_type": "stream",
     "text": [
      "1 2 3\n"
     ]
    }
   ],
   "source": [
    "print(laranja, manga, banana)"
   ]
  },
  {
   "cell_type": "code",
   "execution_count": 6,
   "id": "bd7d4a93",
   "metadata": {},
   "outputs": [],
   "source": [
    "# ATRIBUINDO UM VALOR GLOBAL AS VARIÁVEIS\n",
    "morango = uva = kwui = 100"
   ]
  },
  {
   "cell_type": "code",
   "execution_count": 7,
   "id": "453b9eaf",
   "metadata": {},
   "outputs": [
    {
     "name": "stdout",
     "output_type": "stream",
     "text": [
      "100 100 100\n"
     ]
    }
   ],
   "source": [
    "print(morango, uva, kwui)"
   ]
  },
  {
   "cell_type": "code",
   "execution_count": 9,
   "id": "116437d8",
   "metadata": {},
   "outputs": [],
   "source": [
    "# NOMEANDO COM LISTAS\n",
    "lista_carros = ['audi', 'tesla', 'fiat']\n",
    "marca_01, marca_02, marca_03 = lista_carros"
   ]
  },
  {
   "cell_type": "code",
   "execution_count": 10,
   "id": "3d22379e",
   "metadata": {},
   "outputs": [
    {
     "name": "stdout",
     "output_type": "stream",
     "text": [
      "audi tesla fiat\n"
     ]
    }
   ],
   "source": [
    "print(marca_01, marca_02, marca_03)"
   ]
  },
  {
   "cell_type": "code",
   "execution_count": 30,
   "id": "3057bb35",
   "metadata": {},
   "outputs": [],
   "source": [
    "# COMBINANDO VARIÁVEIS\n",
    "nome = 'Neilton'\n",
    "sobrenome = 'Santos de Souza'\n",
    "nome_completo = nome +' '+sobrenome"
   ]
  },
  {
   "cell_type": "code",
   "execution_count": 31,
   "id": "631eef8b",
   "metadata": {},
   "outputs": [
    {
     "name": "stdout",
     "output_type": "stream",
     "text": [
      "Neilton Santos de Souza\n"
     ]
    }
   ],
   "source": [
    "print(nome_completo)"
   ]
  },
  {
   "cell_type": "code",
   "execution_count": 38,
   "id": "771e9f5c",
   "metadata": {},
   "outputs": [
    {
     "data": {
      "text/plain": [
       "'Neilton 31 anos'"
      ]
     },
     "execution_count": 38,
     "metadata": {},
     "output_type": "execute_result"
    }
   ],
   "source": [
    "# CONCATENANDO LETRAS(STRING) E NÚMEROS(foi necessário colocar o str para transformar o número em string)\n",
    "nome = 'Neilton '\n",
    "idade = str(31)\n",
    "nome + idade +' '+'anos'"
   ]
  },
  {
   "cell_type": "code",
   "execution_count": 48,
   "id": "973659e7",
   "metadata": {},
   "outputs": [
    {
     "data": {
      "text/plain": [
       "200.0"
      ]
     },
     "execution_count": 48,
     "metadata": {},
     "output_type": "execute_result"
    }
   ],
   "source": [
    "# CONCATENANDO NÚMEROS COM STRING(se não colocar o float na taxa de juros, \n",
    "#o resultado será o a impressão de 1000 vezes o valor na tela)\n",
    "investimento = 1000\n",
    "taxa_juros = float('0.2')\n",
    "investimento * taxa_juros"
   ]
  },
  {
   "cell_type": "code",
   "execution_count": 49,
   "id": "d23e0bca",
   "metadata": {},
   "outputs": [
    {
     "name": "stdout",
     "output_type": "stream",
     "text": [
      "1200.0\n"
     ]
    }
   ],
   "source": [
    "# Valor que ficou no total\n",
    "valor_total = (investimento*taxa_juros)+investimento\n",
    "print(valor_total)\n"
   ]
  },
  {
   "cell_type": "markdown",
   "id": "25cfa129",
   "metadata": {},
   "source": [
    "### <font color=red> TIPOS DE INFORMAÇÕES"
   ]
  },
  {
   "cell_type": "code",
   "execution_count": 74,
   "id": "accd6315",
   "metadata": {},
   "outputs": [],
   "source": [
    "# ALGUNS TIPOS DE INFOMAÇÕES EM PYTHON, VAMOS USAR O COMANDO TYPE PARA CONFERIR O TIPO\n",
    "string = str('olá mundo')\n",
    "inteiro  = int(10)\n",
    "flutuante = float(100.6)\n",
    "complexo = complex(1)\n",
    "lista = list(('uva', 'morango'))\n",
    "tupla = tuple(('A', 'B'))\n",
    "Range = range(6)\n",
    "dicionario = dict(nome='Neilton', age=31)\n",
    "selecao = set(('A','B','C'))\n",
    "fronzet = frozenset(('A','B', 'C'))\n",
    "boleano = bool(5)\n",
    "Bytes = bytes(5)\n",
    "byteArray = bytearray(5)\n",
    "Memoryview = memoryview(bytes(5))\n",
    "\n",
    "from datetime import datetime\n",
    "data = datetime.today().date()\n"
   ]
  },
  {
   "cell_type": "code",
   "execution_count": 70,
   "id": "4bd38b81",
   "metadata": {},
   "outputs": [
    {
     "data": {
      "text/plain": [
       "(str, int, float, complex, list, tuple, range, dict)"
      ]
     },
     "execution_count": 70,
     "metadata": {},
     "output_type": "execute_result"
    }
   ],
   "source": [
    "type(string), type(inteiro),type(flutuante), type(complexo), type(lista), type(tupla),type(Range),type(dicionario), "
   ]
  },
  {
   "cell_type": "code",
   "execution_count": 71,
   "id": "c6207a6b",
   "metadata": {},
   "outputs": [
    {
     "data": {
      "text/plain": [
       "(set, frozenset, bool, bytes, bytearray, memoryview)"
      ]
     },
     "execution_count": 71,
     "metadata": {},
     "output_type": "execute_result"
    }
   ],
   "source": [
    "type(selecao), type(fronzet), type(boleano), type(Bytes), type(byteArray), type(Memoryview)"
   ]
  },
  {
   "cell_type": "code",
   "execution_count": 75,
   "id": "8e3c37a0",
   "metadata": {},
   "outputs": [
    {
     "data": {
      "text/plain": [
       "datetime.date"
      ]
     },
     "execution_count": 75,
     "metadata": {},
     "output_type": "execute_result"
    }
   ],
   "source": [
    "type(data)"
   ]
  },
  {
   "cell_type": "markdown",
   "id": "3d29b773",
   "metadata": {},
   "source": [
    "### <font color=red> COMANDO ROUND"
   ]
  },
  {
   "cell_type": "code",
   "execution_count": 77,
   "id": "e4d9ae23",
   "metadata": {},
   "outputs": [],
   "source": [
    "# O COMANDO ROUND SERVE PARA DEFINIR A QUANTIDADE DE CASAS DECIMAIS APÓS A VIRGULA.\n",
    "valor_01 = 12.5678934"
   ]
  },
  {
   "cell_type": "code",
   "execution_count": 79,
   "id": "b5ee36d4",
   "metadata": {},
   "outputs": [
    {
     "name": "stdout",
     "output_type": "stream",
     "text": [
      "12.5678934\n"
     ]
    }
   ],
   "source": [
    "print(valor_01)"
   ]
  },
  {
   "cell_type": "code",
   "execution_count": 86,
   "id": "b0d11275",
   "metadata": {},
   "outputs": [
    {
     "data": {
      "text/plain": [
       "12.57"
      ]
     },
     "execution_count": 86,
     "metadata": {},
     "output_type": "execute_result"
    }
   ],
   "source": [
    "round(valor_01, 2) \n"
   ]
  },
  {
   "cell_type": "markdown",
   "id": "0701b663",
   "metadata": {},
   "source": [
    "### <font color=red> COMANDO LEN"
   ]
  },
  {
   "cell_type": "code",
   "execution_count": 96,
   "id": "514ef454",
   "metadata": {},
   "outputs": [],
   "source": [
    "lista = [1,2,3,4,5,6,7,8,9,10]\n",
    "dicionario = {nome:'Neilton', idade : 31}\n",
    "tupla = (1,2,3)\n",
    "string = 'Olá mundo'\n"
   ]
  },
  {
   "cell_type": "code",
   "execution_count": 97,
   "id": "79035ef7",
   "metadata": {},
   "outputs": [
    {
     "data": {
      "text/plain": [
       "10"
      ]
     },
     "execution_count": 97,
     "metadata": {},
     "output_type": "execute_result"
    }
   ],
   "source": [
    "len(lista)"
   ]
  },
  {
   "cell_type": "code",
   "execution_count": 98,
   "id": "729797e9",
   "metadata": {},
   "outputs": [
    {
     "data": {
      "text/plain": [
       "2"
      ]
     },
     "execution_count": 98,
     "metadata": {},
     "output_type": "execute_result"
    }
   ],
   "source": [
    "len(dicionario)"
   ]
  },
  {
   "cell_type": "code",
   "execution_count": 99,
   "id": "1b993c5c",
   "metadata": {},
   "outputs": [
    {
     "data": {
      "text/plain": [
       "3"
      ]
     },
     "execution_count": 99,
     "metadata": {},
     "output_type": "execute_result"
    }
   ],
   "source": [
    "len(tupla)"
   ]
  },
  {
   "cell_type": "code",
   "execution_count": 100,
   "id": "d0542b07",
   "metadata": {},
   "outputs": [
    {
     "data": {
      "text/plain": [
       "9"
      ]
     },
     "execution_count": 100,
     "metadata": {},
     "output_type": "execute_result"
    }
   ],
   "source": [
    "len(string)"
   ]
  },
  {
   "cell_type": "markdown",
   "id": "b560aa7d",
   "metadata": {},
   "source": [
    "### <font color=red> FATIAMENTO DE STRING"
   ]
  },
  {
   "cell_type": "code",
   "execution_count": 35,
   "id": "ad4d47a9",
   "metadata": {},
   "outputs": [
    {
     "name": "stdout",
     "output_type": "stream",
     "text": [
      "<class 'str'>\n",
      "24\n"
     ]
    }
   ],
   "source": [
    "# PEGANDO SOMENTE ALGUMAS PARTES DA STRING\n",
    "minha_string = 'Estou Aprendendo Python!'\n",
    "cpf = 'cpf:123456789'\n",
    "\n",
    "print(type(minha_string))\n",
    "print(len(minha_string))"
   ]
  },
  {
   "cell_type": "code",
   "execution_count": 10,
   "id": "21ea4ac4",
   "metadata": {},
   "outputs": [
    {
     "data": {
      "text/plain": [
       "'E'"
      ]
     },
     "execution_count": 10,
     "metadata": {},
     "output_type": "execute_result"
    }
   ],
   "source": [
    "minha_string[0]"
   ]
  },
  {
   "cell_type": "code",
   "execution_count": 13,
   "id": "75aa3779",
   "metadata": {},
   "outputs": [
    {
     "data": {
      "text/plain": [
       "'A'"
      ]
     },
     "execution_count": 13,
     "metadata": {},
     "output_type": "execute_result"
    }
   ],
   "source": [
    "minha_string[6]"
   ]
  },
  {
   "cell_type": "code",
   "execution_count": 15,
   "id": "74d490d1",
   "metadata": {},
   "outputs": [
    {
     "data": {
      "text/plain": [
       "'P'"
      ]
     },
     "execution_count": 15,
     "metadata": {},
     "output_type": "execute_result"
    }
   ],
   "source": [
    "minha_string[17]"
   ]
  },
  {
   "cell_type": "code",
   "execution_count": 16,
   "id": "96042a61",
   "metadata": {},
   "outputs": [
    {
     "data": {
      "text/plain": [
       "'Estou '"
      ]
     },
     "execution_count": 16,
     "metadata": {},
     "output_type": "execute_result"
    }
   ],
   "source": [
    "minha_string[0:6]"
   ]
  },
  {
   "cell_type": "code",
   "execution_count": 18,
   "id": "37e0840f",
   "metadata": {},
   "outputs": [
    {
     "data": {
      "text/plain": [
       "'Aprendendo'"
      ]
     },
     "execution_count": 18,
     "metadata": {},
     "output_type": "execute_result"
    }
   ],
   "source": [
    "minha_string[6:16]"
   ]
  },
  {
   "cell_type": "code",
   "execution_count": 21,
   "id": "92548709",
   "metadata": {},
   "outputs": [
    {
     "data": {
      "text/plain": [
       "'Python'"
      ]
     },
     "execution_count": 21,
     "metadata": {},
     "output_type": "execute_result"
    }
   ],
   "source": [
    "minha_string[17:23]"
   ]
  },
  {
   "cell_type": "code",
   "execution_count": 37,
   "id": "6f848e41",
   "metadata": {},
   "outputs": [
    {
     "data": {
      "text/plain": [
       "'123456789'"
      ]
     },
     "execution_count": 37,
     "metadata": {},
     "output_type": "execute_result"
    }
   ],
   "source": [
    "# PEGA OS 9 ÚLTIMOS CAMPOS\n",
    "cpf[-9:]"
   ]
  },
  {
   "cell_type": "code",
   "execution_count": null,
   "id": "6585b469",
   "metadata": {},
   "outputs": [],
   "source": []
  },
  {
   "cell_type": "code",
   "execution_count": null,
   "id": "74000a06",
   "metadata": {},
   "outputs": [],
   "source": []
  },
  {
   "cell_type": "code",
   "execution_count": null,
   "id": "9e6acfeb",
   "metadata": {},
   "outputs": [],
   "source": []
  },
  {
   "cell_type": "code",
   "execution_count": null,
   "id": "aa1c478a",
   "metadata": {},
   "outputs": [],
   "source": []
  },
  {
   "cell_type": "code",
   "execution_count": null,
   "id": "26361bc8",
   "metadata": {},
   "outputs": [],
   "source": []
  },
  {
   "cell_type": "code",
   "execution_count": null,
   "id": "18794be8",
   "metadata": {},
   "outputs": [],
   "source": []
  },
  {
   "cell_type": "code",
   "execution_count": null,
   "id": "b9779009",
   "metadata": {},
   "outputs": [],
   "source": []
  },
  {
   "cell_type": "code",
   "execution_count": null,
   "id": "1bba87a0",
   "metadata": {},
   "outputs": [],
   "source": []
  },
  {
   "cell_type": "code",
   "execution_count": null,
   "id": "612c2f4c",
   "metadata": {},
   "outputs": [],
   "source": []
  },
  {
   "cell_type": "code",
   "execution_count": null,
   "id": "ffec0252",
   "metadata": {},
   "outputs": [],
   "source": []
  }
 ],
 "metadata": {
  "kernelspec": {
   "display_name": "Python 3 (ipykernel)",
   "language": "python",
   "name": "python3"
  },
  "language_info": {
   "codemirror_mode": {
    "name": "ipython",
    "version": 3
   },
   "file_extension": ".py",
   "mimetype": "text/x-python",
   "name": "python",
   "nbconvert_exporter": "python",
   "pygments_lexer": "ipython3",
   "version": "3.6.8"
  }
 },
 "nbformat": 4,
 "nbformat_minor": 5
}

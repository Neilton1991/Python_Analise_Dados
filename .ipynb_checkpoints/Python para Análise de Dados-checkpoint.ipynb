{
 "cells": [
  {
   "cell_type": "markdown",
   "id": "aed40c96",
   "metadata": {},
   "source": [
    "### <font color=red> PRINT"
   ]
  },
  {
   "cell_type": "code",
   "execution_count": null,
   "id": "2c95756d",
   "metadata": {},
   "outputs": [],
   "source": [
    "#Posso usar aspas simples ou duplas 'blá' ou \"blá\" ou '''bla''' para fazer um comentário em python"
   ]
  },
  {
   "cell_type": "code",
   "execution_count": null,
   "id": "df7eea41",
   "metadata": {},
   "outputs": [],
   "source": [
    "print('Bem vindo ao curso de python')"
   ]
  },
  {
   "cell_type": "code",
   "execution_count": 4,
   "id": "5b61a280",
   "metadata": {},
   "outputs": [
    {
     "name": "stdout",
     "output_type": "stream",
     "text": [
      "Bem vindo ao curso de Python\n"
     ]
    }
   ],
   "source": [
    "print(\"Bem vindo ao curso de Python\")"
   ]
  },
  {
   "cell_type": "code",
   "execution_count": 9,
   "id": "35fe2d9f",
   "metadata": {},
   "outputs": [
    {
     "name": "stdout",
     "output_type": "stream",
     "text": [
      "O \n",
      " faz \n",
      " pular uma \n",
      " linha\n"
     ]
    }
   ],
   "source": [
    "print('O \\n faz \\n pular uma \\n linha')"
   ]
  },
  {
   "cell_type": "markdown",
   "id": "6f2fdeaa",
   "metadata": {},
   "source": [
    "### <font color=red> OPERADORES"
   ]
  },
  {
   "cell_type": "code",
   "execution_count": 15,
   "id": "ec7f6ba4",
   "metadata": {},
   "outputs": [
    {
     "data": {
      "text/plain": [
       "15"
      ]
     },
     "execution_count": 15,
     "metadata": {},
     "output_type": "execute_result"
    }
   ],
   "source": [
    "# SOMA\n",
    "10 + 5 "
   ]
  },
  {
   "cell_type": "code",
   "execution_count": 16,
   "id": "9450b1e2",
   "metadata": {},
   "outputs": [
    {
     "data": {
      "text/plain": [
       "5"
      ]
     },
     "execution_count": 16,
     "metadata": {},
     "output_type": "execute_result"
    }
   ],
   "source": [
    "# SUBTRAÇÃO\n",
    "10 - 5 "
   ]
  },
  {
   "cell_type": "code",
   "execution_count": 17,
   "id": "a8fd7efb",
   "metadata": {},
   "outputs": [
    {
     "data": {
      "text/plain": [
       "2.0"
      ]
     },
     "execution_count": 17,
     "metadata": {},
     "output_type": "execute_result"
    }
   ],
   "source": [
    "# DIVISÃO\n",
    "10 / 5 "
   ]
  },
  {
   "cell_type": "code",
   "execution_count": 18,
   "id": "bc0379a1",
   "metadata": {},
   "outputs": [
    {
     "data": {
      "text/plain": [
       "50"
      ]
     },
     "execution_count": 18,
     "metadata": {},
     "output_type": "execute_result"
    }
   ],
   "source": [
    "# MULTIPLICAÇÃO\n",
    "10 * 5 "
   ]
  },
  {
   "cell_type": "code",
   "execution_count": 23,
   "id": "3bed7fe1",
   "metadata": {},
   "outputs": [
    {
     "data": {
      "text/plain": [
       "8"
      ]
     },
     "execution_count": 23,
     "metadata": {},
     "output_type": "execute_result"
    }
   ],
   "source": [
    "# EXPONENCIAÇÃO\n",
    "2**3 "
   ]
  },
  {
   "cell_type": "code",
   "execution_count": 24,
   "id": "ce6c5c24",
   "metadata": {},
   "outputs": [
    {
     "data": {
      "text/plain": [
       "3"
      ]
     },
     "execution_count": 24,
     "metadata": {},
     "output_type": "execute_result"
    }
   ],
   "source": [
    "# RESTO DA DIVISÃO\n",
    "3 % 4"
   ]
  },
  {
   "cell_type": "code",
   "execution_count": 28,
   "id": "af97ca3c",
   "metadata": {},
   "outputs": [
    {
     "data": {
      "text/plain": [
       "3"
      ]
     },
     "execution_count": 28,
     "metadata": {},
     "output_type": "execute_result"
    }
   ],
   "source": [
    "# DIVISÃO DE CHÃO\n",
    "15 // 4"
   ]
  },
  {
   "cell_type": "code",
   "execution_count": 30,
   "id": "930eff6a",
   "metadata": {},
   "outputs": [
    {
     "data": {
      "text/plain": [
       "35"
      ]
     },
     "execution_count": 30,
     "metadata": {},
     "output_type": "execute_result"
    }
   ],
   "source": [
    "# PRIORIZAÇÃO DENTRO DA OPERAÇÃO\n",
    "(1+4)*7\n"
   ]
  },
  {
   "cell_type": "markdown",
   "id": "c3fc422e",
   "metadata": {},
   "source": [
    "### <font color=red> VARIÁVEIS"
   ]
  },
  {
   "cell_type": "code",
   "execution_count": null,
   "id": "29631a53",
   "metadata": {},
   "outputs": [],
   "source": []
  },
  {
   "cell_type": "code",
   "execution_count": null,
   "id": "9945bfaf",
   "metadata": {},
   "outputs": [],
   "source": []
  },
  {
   "cell_type": "code",
   "execution_count": null,
   "id": "6bd58d91",
   "metadata": {},
   "outputs": [],
   "source": []
  },
  {
   "cell_type": "code",
   "execution_count": null,
   "id": "8f2027a0",
   "metadata": {},
   "outputs": [],
   "source": []
  },
  {
   "cell_type": "code",
   "execution_count": null,
   "id": "f077d4f5",
   "metadata": {},
   "outputs": [],
   "source": []
  }
 ],
 "metadata": {
  "kernelspec": {
   "display_name": "Python 3 (ipykernel)",
   "language": "python",
   "name": "python3"
  },
  "language_info": {
   "codemirror_mode": {
    "name": "ipython",
    "version": 3
   },
   "file_extension": ".py",
   "mimetype": "text/x-python",
   "name": "python",
   "nbconvert_exporter": "python",
   "pygments_lexer": "ipython3",
   "version": "3.6.8"
  }
 },
 "nbformat": 4,
 "nbformat_minor": 5
}
